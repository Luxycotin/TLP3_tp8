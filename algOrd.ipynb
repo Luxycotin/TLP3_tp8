{
 "cells": [
  {
   "cell_type": "markdown",
   "id": "a36d7506",
   "metadata": {},
   "source": [
    "## Merge Sort\n",
    "\n",
    "Merge Sort es un algoritmo de ordenamiento que organiza los datos dividiendo el arreglo en partes más pequeñas, ordenándolas por separado y luego combinándolas en una sola secuencia ordenada.\n",
    "\n",
    "### ¿Cómo funciona?\n",
    "\n",
    "1. Se divide el arreglo en dos mitades.\n",
    "2. Cada mitad se ordena de forma recursiva.\n",
    "3. Las dos mitades ordenadas se combinan en un solo arreglo final también ordenado.\n",
    "\n",
    "Este proceso garantiza una eficiencia consistente con una complejidad de **O(n log n)**, independientemente de cómo estén organizados inicialmente los datos.\n"
   ]
  },
  {
   "cell_type": "code",
   "execution_count": null,
   "id": "ea02a536",
   "metadata": {},
   "outputs": [],
   "source": [
    "import time\n",
    "import random\n",
    "\n",
    "def merge_sort(arr):\n",
    "    if len(arr) > 1:\n",
    "        mid = len(arr) // 2\n",
    "        L = arr[:mid]\n",
    "        R = arr[mid:]\n",
    "\n",
    "        merge_sort(L)\n",
    "        merge_sort(R)\n",
    "\n",
    "        i = j = k = 0\n",
    "\n",
    "\n",
    "        while i < len(L) and j < len(R):\n",
    "            if L[i] < R[j]:\n",
    "                arr[k] = L[i]\n",
    "                i += 1\n",
    "            else:\n",
    "                arr[k] = R[j]\n",
    "                j += 1\n",
    "            k += 1\n",
    "\n",
    "\n",
    "        while i < len(L):\n",
    "            arr[k] = L[i]\n",
    "            i += 1\n",
    "            k += 1\n",
    "        while j < len(R):\n",
    "            arr[k] = R[j]\n",
    "            j += 1\n",
    "            k += 1\n",
    "\n",
    "\n",
    "def insertion_sort(arr):\n",
    "    for i in range(1, len(arr)):\n",
    "        key = arr[i]\n",
    "        j = i - 1\n",
    "        while j >= 0 and arr[j] > key:\n",
    "            arr[j + 1] = arr[j]\n",
    "            j -= 1\n",
    "        arr[j + 1] = key\n",
    "\n",
    "\n",
    "arr1 = [random.randint(0, 10000) for _ in range(1000)]\n",
    "arr2 = arr1.copy()\n",
    "\n",
    "\n",
    "start_merge = time.time()\n",
    "merge_sort(arr1)\n",
    "end_merge = time.time()\n",
    "\n",
    "start_insertion = time.time()\n",
    "insertion_sort(arr2)\n",
    "end_insertion = time.time()\n",
    "\n",
    "print(f\"Merge Sort tardó: {end_merge - start_merge:.5f} segundos\")\n",
    "print(f\"Insertion Sort tardó: {end_insertion - start_insertion:.5f} segundos\")\n"
   ]
  },
  {
   "cell_type": "markdown",
   "id": "2884ab63",
   "metadata": {},
   "source": [
    "## Conclusión\n",
    "\n",
    "- **Merge Sort fue más rápido** que Insertion Sort al ordenar una lista de 1000 elementos aleatorios.\n",
    "- El resultado no me sorprendió, ya que Merge Sort tiene una complejidad de **O(n log n)**, mientras que Insertion Sort es **O(n²)** en el peor caso.\n",
    "- Me gustó Merge Sort porque es un algoritmo eficiente, predecible y elegante. Aunque es más complejo de entender que Insertion Sort, su rendimiento es muy superior en listas grandes.\n"
   ]
  }
 ],
 "metadata": {
  "kernelspec": {
   "display_name": "Python 3",
   "language": "python",
   "name": "python3"
  },
  "language_info": {
   "name": "python",
   "version": "3.13.2"
  }
 },
 "nbformat": 4,
 "nbformat_minor": 5
}
